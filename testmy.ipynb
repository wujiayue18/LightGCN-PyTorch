{
 "cells": [
  {
   "cell_type": "code",
   "execution_count": 13,
   "metadata": {},
   "outputs": [
    {
     "name": "stdout",
     "output_type": "stream",
     "text": [
      "  (0, 3)\t1.0\n",
      "  (0, 4)\t1.0\n",
      "  (1, 0)\t1.0\n",
      "  (1, 2)\t1.0\n",
      "  (1, 3)\t1.0\n",
      "  (2, 1)\t1.0\n"
     ]
    }
   ],
   "source": [
    "from scipy.sparse import csr_matrix\n",
    "import scipy as sp\n",
    "import numpy as np\n",
    "trainUser = np.array([1,1,2,2,2,3]) - 1\n",
    "trainItem = np.array([4,5,1,3,4,2]) - 1\n",
    "n_user = 3\n",
    "m_item = 5\n",
    "UserItemNet = csr_matrix((np.ones(len(trainUser)), (trainUser, trainItem)),\n",
    "                                      shape=(n_user, m_item))\n",
    "print(UserItemNet)"
   ]
  },
  {
   "cell_type": "code",
   "execution_count": 19,
   "metadata": {},
   "outputs": [],
   "source": [
    "highpo_samples = np.array([2,3])\n",
    "rows = np.arange(n_user)[:,None]\n",
    "rows = np.repeat(rows,len(highpo_samples),axis=1).flatten()"
   ]
  },
  {
   "cell_type": "code",
   "execution_count": 22,
   "metadata": {},
   "outputs": [],
   "source": [
    "cols = np.tile(highpo_samples, n_user)\n"
   ]
  },
  {
   "cell_type": "code",
   "execution_count": 24,
   "metadata": {},
   "outputs": [
    {
     "data": {
      "text/plain": [
       "array([0, 0, 1, 1, 2, 2])"
      ]
     },
     "execution_count": 24,
     "metadata": {},
     "output_type": "execute_result"
    }
   ],
   "source": [
    "rows"
   ]
  },
  {
   "cell_type": "code",
   "execution_count": 23,
   "metadata": {},
   "outputs": [
    {
     "data": {
      "text/plain": [
       "array([2, 3, 2, 3, 2, 3])"
      ]
     },
     "execution_count": 23,
     "metadata": {},
     "output_type": "execute_result"
    }
   ],
   "source": [
    "cols"
   ]
  },
  {
   "cell_type": "code",
   "execution_count": 26,
   "metadata": {},
   "outputs": [
    {
     "data": {
      "text/plain": [
       "array([1, 1, 1, 1, 1, 1])"
      ]
     },
     "execution_count": 26,
     "metadata": {},
     "output_type": "execute_result"
    }
   ],
   "source": [
    "data = np.ones_like(cols)\n",
    "data"
   ]
  },
  {
   "cell_type": "code",
   "execution_count": 28,
   "metadata": {},
   "outputs": [],
   "source": [
    "user_popularity = csr_matrix((data, (rows, cols)), shape=(n_user, m_item))"
   ]
  },
  {
   "cell_type": "code",
   "execution_count": 30,
   "metadata": {},
   "outputs": [
    {
     "name": "stdout",
     "output_type": "stream",
     "text": [
      "  (0, 2)\t1\n",
      "  (0, 3)\t1\n",
      "  (1, 2)\t1\n",
      "  (1, 3)\t1\n",
      "  (2, 2)\t1\n",
      "  (2, 3)\t1\n"
     ]
    }
   ],
   "source": [
    "print(user_popularity)"
   ]
  },
  {
   "cell_type": "code",
   "execution_count": 32,
   "metadata": {},
   "outputs": [
    {
     "name": "stdout",
     "output_type": "stream",
     "text": [
      "  (0, 3)\t1.0\n",
      "  (1, 2)\t1.0\n",
      "  (1, 3)\t1.0\n"
     ]
    }
   ],
   "source": [
    "user_popularity = user_popularity.multiply(UserItemNet)\n",
    "print(user_popularity)"
   ]
  },
  {
   "cell_type": "code",
   "execution_count": 7,
   "metadata": {},
   "outputs": [
    {
     "ename": "IndexError",
     "evalue": "too many indices for array: array is 0-dimensional, but 1 were indexed",
     "output_type": "error",
     "traceback": [
      "\u001b[0;31m---------------------------------------------------------------------------\u001b[0m",
      "\u001b[0;31mIndexError\u001b[0m                                Traceback (most recent call last)",
      "Cell \u001b[0;32mIn[7], line 2\u001b[0m\n\u001b[1;32m      1\u001b[0m highpo_samples \u001b[38;5;241m=\u001b[39m np\u001b[38;5;241m.\u001b[39marray([[\u001b[38;5;241m2\u001b[39m,\u001b[38;5;241m3\u001b[39m]])\n\u001b[0;32m----> 2\u001b[0m \u001b[43muser_popularity\u001b[49m\u001b[43m[\u001b[49m\u001b[43mhighpo_samples\u001b[49m\u001b[43m]\u001b[49m \u001b[38;5;241m=\u001b[39m \u001b[38;5;241m1\u001b[39m\n",
      "\u001b[0;31mIndexError\u001b[0m: too many indices for array: array is 0-dimensional, but 1 were indexed"
     ]
    }
   ],
   "source": [
    "highpo_samples = np.array([2,3])\n",
    "user_popularity[highpo_samples] = 1"
   ]
  },
  {
   "cell_type": "code",
   "execution_count": 3,
   "metadata": {},
   "outputs": [
    {
     "data": {
      "text/plain": [
       "array([3, 4], dtype=int32)"
      ]
     },
     "execution_count": 3,
     "metadata": {},
     "output_type": "execute_result"
    }
   ],
   "source": [
    "UserItemNet[0].nonzero()[1]"
   ]
  },
  {
   "cell_type": "code",
   "execution_count": 4,
   "metadata": {},
   "outputs": [],
   "source": [
    "posItems = []\n",
    "posItems.append(UserItemNet[0].nonzero()[1])"
   ]
  },
  {
   "cell_type": "code",
   "execution_count": 6,
   "metadata": {},
   "outputs": [
    {
     "data": {
      "text/plain": [
       "[array([3, 4], dtype=int32), array([0, 2, 3], dtype=int32)]"
      ]
     },
     "execution_count": 6,
     "metadata": {},
     "output_type": "execute_result"
    }
   ],
   "source": [
    "posItems.append(UserItemNet[1].nonzero()[1])\n",
    "posItems"
   ]
  },
  {
   "cell_type": "code",
   "execution_count": 12,
   "metadata": {},
   "outputs": [
    {
     "data": {
      "text/plain": [
       "<method-wrapper '__getattribute__' of numpy.float64 object at 0x7fb0e284bb90>"
      ]
     },
     "execution_count": 12,
     "metadata": {},
     "output_type": "execute_result"
    }
   ],
   "source": [
    "UserItemNet[0,3].__getattribute__"
   ]
  },
  {
   "cell_type": "code",
   "execution_count": 12,
   "metadata": {},
   "outputs": [],
   "source": [
    "import scipy.sparse as sp\n",
    "adj_mat = sp.dok_matrix((n_user + m_item, n_user + m_item), dtype=np.float32)\n",
    "adj_mat = adj_mat.tolil()"
   ]
  },
  {
   "cell_type": "code",
   "execution_count": 19,
   "metadata": {},
   "outputs": [
    {
     "data": {
      "text/plain": [
       "<8x8 sparse matrix of type '<class 'numpy.float32'>'\n",
       "\twith 0 stored elements in Dictionary Of Keys format>"
      ]
     },
     "execution_count": 19,
     "metadata": {},
     "output_type": "execute_result"
    }
   ],
   "source": [
    "a"
   ]
  },
  {
   "cell_type": "code",
   "execution_count": 13,
   "metadata": {},
   "outputs": [],
   "source": [
    "R = UserItemNet.tolil()"
   ]
  },
  {
   "cell_type": "code",
   "execution_count": 14,
   "metadata": {},
   "outputs": [],
   "source": [
    "adj_mat[:n_user, n_user:] = R\n",
    "adj_mat[n_user:, :n_user] = R.T\n"
   ]
  },
  {
   "cell_type": "code",
   "execution_count": 15,
   "metadata": {},
   "outputs": [],
   "source": [
    "adj_mat = adj_mat.todok()"
   ]
  },
  {
   "cell_type": "code",
   "execution_count": 33,
   "metadata": {},
   "outputs": [
    {
     "name": "stdout",
     "output_type": "stream",
     "text": [
      "  (6, 0)\t1.0\n",
      "  (7, 0)\t1.0\n",
      "  (3, 1)\t1.0\n",
      "  (5, 1)\t1.0\n",
      "  (6, 1)\t1.0\n",
      "  (4, 2)\t1.0\n",
      "  (1, 3)\t1.0\n",
      "  (2, 4)\t1.0\n",
      "  (1, 5)\t1.0\n",
      "  (0, 6)\t1.0\n",
      "  (1, 6)\t1.0\n",
      "  (0, 7)\t1.0\n"
     ]
    }
   ],
   "source": [
    "print(adj_mat)"
   ]
  },
  {
   "cell_type": "code",
   "execution_count": 16,
   "metadata": {},
   "outputs": [
    {
     "data": {
      "text/plain": [
       "array([[2.],\n",
       "       [3.],\n",
       "       [1.],\n",
       "       [1.],\n",
       "       [1.],\n",
       "       [1.],\n",
       "       [2.],\n",
       "       [1.]], dtype=float32)"
      ]
     },
     "execution_count": 16,
     "metadata": {},
     "output_type": "execute_result"
    }
   ],
   "source": [
    "rowsum = np.array(adj_mat.sum(axis=1))\n",
    "rowsum"
   ]
  },
  {
   "cell_type": "code",
   "execution_count": 17,
   "metadata": {},
   "outputs": [
    {
     "data": {
      "text/plain": [
       "array([0.70710677, 0.57735026, 1.        , 1.        , 1.        ,\n",
       "       1.        , 0.70710677, 1.        ], dtype=float32)"
      ]
     },
     "execution_count": 17,
     "metadata": {},
     "output_type": "execute_result"
    }
   ],
   "source": [
    "d_inv = np.power(rowsum, -0.5).flatten()\n",
    "d_inv"
   ]
  },
  {
   "cell_type": "code",
   "execution_count": 18,
   "metadata": {},
   "outputs": [
    {
     "name": "stdout",
     "output_type": "stream",
     "text": [
      "  (0, 0)\t0.70710677\n",
      "  (1, 1)\t0.57735026\n",
      "  (2, 2)\t1.0\n",
      "  (3, 3)\t1.0\n",
      "  (4, 4)\t1.0\n",
      "  (5, 5)\t1.0\n",
      "  (6, 6)\t0.70710677\n",
      "  (7, 7)\t1.0\n"
     ]
    }
   ],
   "source": [
    "d_mat = sp.diags(d_inv)\n",
    "print(d_mat)"
   ]
  },
  {
   "cell_type": "code",
   "execution_count": 19,
   "metadata": {},
   "outputs": [
    {
     "name": "stdout",
     "output_type": "stream",
     "text": [
      "  (0, 7)\t0.70710677\n",
      "  (0, 6)\t0.70710677\n",
      "  (1, 6)\t0.57735026\n",
      "  (1, 5)\t0.57735026\n",
      "  (1, 3)\t0.57735026\n",
      "  (2, 4)\t1.0\n",
      "  (3, 1)\t1.0\n",
      "  (4, 2)\t1.0\n",
      "  (5, 1)\t1.0\n",
      "  (6, 1)\t0.70710677\n",
      "  (6, 0)\t0.70710677\n",
      "  (7, 0)\t1.0\n"
     ]
    }
   ],
   "source": [
    "norm_adj = d_mat.dot(adj_mat)\n",
    "print(norm_adj)"
   ]
  },
  {
   "cell_type": "code",
   "execution_count": 20,
   "metadata": {},
   "outputs": [
    {
     "name": "stdout",
     "output_type": "stream",
     "text": [
      "  (0, 6)\t0.49999997\n",
      "  (0, 7)\t0.70710677\n",
      "  (1, 3)\t0.57735026\n",
      "  (1, 5)\t0.57735026\n",
      "  (1, 6)\t0.40824828\n",
      "  (2, 4)\t1.0\n",
      "  (3, 1)\t0.57735026\n",
      "  (4, 2)\t1.0\n",
      "  (5, 1)\t0.57735026\n",
      "  (6, 0)\t0.49999997\n",
      "  (6, 1)\t0.40824828\n",
      "  (7, 0)\t0.70710677\n"
     ]
    }
   ],
   "source": [
    "norm_adj = norm_adj.dot(d_mat)\n",
    "print(norm_adj)"
   ]
  },
  {
   "cell_type": "code",
   "execution_count": 21,
   "metadata": {},
   "outputs": [
    {
     "name": "stdout",
     "output_type": "stream",
     "text": [
      "  (0, 6)\t0.49999997\n",
      "  (0, 7)\t0.70710677\n",
      "  (1, 3)\t0.57735026\n",
      "  (1, 5)\t0.57735026\n",
      "  (1, 6)\t0.40824828\n",
      "  (2, 4)\t1.0\n",
      "  (3, 1)\t0.57735026\n",
      "  (4, 2)\t1.0\n",
      "  (5, 1)\t0.57735026\n",
      "  (6, 0)\t0.49999997\n",
      "  (6, 1)\t0.40824828\n",
      "  (7, 0)\t0.70710677\n"
     ]
    }
   ],
   "source": [
    "norm_adj = norm_adj.tocsr()\n",
    "print(norm_adj)"
   ]
  },
  {
   "cell_type": "code",
   "execution_count": 22,
   "metadata": {},
   "outputs": [],
   "source": [
    "X = norm_adj\n",
    "coo = X.tocoo().astype(np.float32)"
   ]
  },
  {
   "cell_type": "code",
   "execution_count": 27,
   "metadata": {},
   "outputs": [],
   "source": [
    "import torch\n",
    "coo = X.tocoo().astype(np.float32)\n",
    "row = torch.Tensor(coo.row).long()\n",
    "col = torch.Tensor(coo.col).long()\n",
    "index = torch.stack([row, col])\n",
    "data = torch.FloatTensor(coo.data)"
   ]
  },
  {
   "cell_type": "code",
   "execution_count": 32,
   "metadata": {},
   "outputs": [],
   "source": [
    "a = torch.sparse.FloatTensor(index, data, torch.Size(coo.shape)).coalesce()"
   ]
  },
  {
   "cell_type": "code",
   "execution_count": 38,
   "metadata": {},
   "outputs": [],
   "source": [
    "keep_prob = 0.6"
   ]
  },
  {
   "cell_type": "code",
   "execution_count": 39,
   "metadata": {},
   "outputs": [
    {
     "data": {
      "text/plain": [
       "tensor([1.5051, 1.4183, 1.5672, 1.1399, 0.9426, 1.4170, 1.3702, 1.5139, 1.3634,\n",
       "        0.8299, 1.0084, 1.3435])"
      ]
     },
     "execution_count": 39,
     "metadata": {},
     "output_type": "execute_result"
    }
   ],
   "source": [
    "random_index = torch.rand(len(a.values())) + keep_prob\n",
    "random_index"
   ]
  },
  {
   "cell_type": "code",
   "execution_count": 41,
   "metadata": {},
   "outputs": [],
   "source": [
    "random_index = random_index.int().bool()"
   ]
  },
  {
   "cell_type": "code",
   "execution_count": 43,
   "metadata": {},
   "outputs": [
    {
     "data": {
      "text/plain": [
       "tensor([[0, 6],\n",
       "        [0, 7],\n",
       "        [1, 3],\n",
       "        [1, 5],\n",
       "        [2, 4],\n",
       "        [3, 1],\n",
       "        [4, 2],\n",
       "        [5, 1],\n",
       "        [6, 1],\n",
       "        [7, 0]])"
      ]
     },
     "execution_count": 43,
     "metadata": {},
     "output_type": "execute_result"
    }
   ],
   "source": [
    "index = a.indices().t()\n",
    "index = index[random_index]\n",
    "index"
   ]
  },
  {
   "cell_type": "code",
   "execution_count": 44,
   "metadata": {},
   "outputs": [
    {
     "data": {
      "text/plain": [
       "tensor([[0, 6],\n",
       "        [0, 7],\n",
       "        [1, 3],\n",
       "        [1, 5],\n",
       "        [1, 6],\n",
       "        [2, 4],\n",
       "        [3, 1],\n",
       "        [4, 2],\n",
       "        [5, 1],\n",
       "        [6, 0],\n",
       "        [6, 1],\n",
       "        [7, 0]])"
      ]
     },
     "execution_count": 44,
     "metadata": {},
     "output_type": "execute_result"
    }
   ],
   "source": [
    "a.indices().t()"
   ]
  },
  {
   "cell_type": "code",
   "execution_count": 47,
   "metadata": {},
   "outputs": [],
   "source": [
    "import torch\n",
    "row = torch.Tensor(coo.row).long()\n",
    "col = torch.Tensor(coo.col).long()\n",
    "index = torch.stack([row, col])"
   ]
  },
  {
   "cell_type": "code",
   "execution_count": null,
   "metadata": {},
   "outputs": [
    {
     "data": {
      "text/plain": [
       "tensor([[0, 0, 1, 1, 1, 2, 3, 4, 5, 6, 6, 7],\n",
       "        [6, 7, 3, 5, 6, 4, 1, 2, 1, 0, 1, 0]])"
      ]
     },
     "execution_count": 48,
     "metadata": {},
     "output_type": "execute_result"
    }
   ],
   "source": [
    "index[0]"
   ]
  },
  {
   "cell_type": "code",
   "execution_count": 4,
   "metadata": {},
   "outputs": [],
   "source": [
    "import numpy as np\n",
    "batch_size = 5\n",
    "users = np.random.randint(0,10,5)\n",
    "pos = np.random.randint(0,5,5)\n",
    "neg = np.random.randint(0,20,5)"
   ]
  },
  {
   "cell_type": "code",
   "execution_count": 6,
   "metadata": {},
   "outputs": [],
   "source": [
    "import torch\n",
    "n_dim = 5\n",
    "n_user = 5\n",
    "m_item = 3\n",
    "embedding_user = torch.nn.Embedding(n_user, n_dim).weight\n",
    "embedding_item = torch.nn.Embedding(m_item, n_dim).weight"
   ]
  },
  {
   "cell_type": "code",
   "execution_count": 7,
   "metadata": {},
   "outputs": [
    {
     "data": {
      "text/plain": [
       "tensor([ 0.4374,  0.5484,  0.4191, -1.2630, -0.0174], grad_fn=<MulBackward0>)"
      ]
     },
     "execution_count": 7,
     "metadata": {},
     "output_type": "execute_result"
    }
   ],
   "source": [
    "torch.mul(embedding_user[0],embedding_item[0])"
   ]
  },
  {
   "cell_type": "code",
   "execution_count": 49,
   "metadata": {},
   "outputs": [
    {
     "data": {
      "text/plain": [
       "tensor([[-0.3642, -0.4743, -1.2291,  0.3904, -0.1371],\n",
       "        [ 0.5780,  2.0548, -1.7331, -1.1129,  0.8137],\n",
       "        [ 0.3092,  0.5179,  1.0910, -0.4013, -1.4377],\n",
       "        [-0.1943,  1.1920,  0.2614,  0.5418, -1.9513],\n",
       "        [ 0.3853, -0.0947,  0.1074, -0.1851,  1.2398],\n",
       "        [-0.4665, -1.1952,  0.6807, -1.0512,  0.4131],\n",
       "        [ 0.4097,  0.3224,  1.3734, -0.7116, -0.5134],\n",
       "        [ 1.4123, -0.9352,  0.2088, -1.4172,  1.1381]], grad_fn=<CatBackward0>)"
      ]
     },
     "execution_count": 49,
     "metadata": {},
     "output_type": "execute_result"
    }
   ],
   "source": [
    "all_emb = torch.cat([embedding_user, embedding_item])\n",
    "all_emb"
   ]
  },
  {
   "cell_type": "code",
   "execution_count": 50,
   "metadata": {},
   "outputs": [
    {
     "data": {
      "text/plain": [
       "tensor([[ 1.2035, -0.5001,  0.8344, -1.3579,  0.5481],\n",
       "        [-0.2142,  0.1298,  1.1046, -0.5846, -1.0976],\n",
       "        [ 0.3853, -0.0947,  0.1074, -0.1851,  1.2398],\n",
       "        [ 0.3337,  1.1863, -1.0006, -0.6425,  0.4698],\n",
       "        [ 0.3092,  0.5179,  1.0910, -0.4013, -1.4377],\n",
       "        [ 0.3337,  1.1863, -1.0006, -0.6425,  0.4698],\n",
       "        [ 0.0539,  0.6017, -1.3221, -0.2591,  0.2636],\n",
       "        [-0.2575, -0.3354, -0.8691,  0.2761, -0.0970]],\n",
       "       grad_fn=<SparseAddmmBackward0>)"
      ]
     },
     "execution_count": 50,
     "metadata": {},
     "output_type": "execute_result"
    }
   ],
   "source": [
    "all_emb = torch.sparse.mm(a, all_emb)\n",
    "all_emb"
   ]
  },
  {
   "cell_type": "code",
   "execution_count": 54,
   "metadata": {},
   "outputs": [],
   "source": [
    "b = []"
   ]
  },
  {
   "cell_type": "code",
   "execution_count": 55,
   "metadata": {},
   "outputs": [],
   "source": [
    "b.append(all_emb)\n",
    "b.append(all_emb)"
   ]
  },
  {
   "cell_type": "code",
   "execution_count": 56,
   "metadata": {},
   "outputs": [
    {
     "data": {
      "text/plain": [
       "[tensor([[ 1.2035, -0.5001,  0.8344, -1.3579,  0.5481],\n",
       "         [-0.2142,  0.1298,  1.1046, -0.5846, -1.0976],\n",
       "         [ 0.3853, -0.0947,  0.1074, -0.1851,  1.2398],\n",
       "         [ 0.3337,  1.1863, -1.0006, -0.6425,  0.4698],\n",
       "         [ 0.3092,  0.5179,  1.0910, -0.4013, -1.4377],\n",
       "         [ 0.3337,  1.1863, -1.0006, -0.6425,  0.4698],\n",
       "         [ 0.0539,  0.6017, -1.3221, -0.2591,  0.2636],\n",
       "         [-0.2575, -0.3354, -0.8691,  0.2761, -0.0970]],\n",
       "        grad_fn=<SparseAddmmBackward0>),\n",
       " tensor([[ 1.2035, -0.5001,  0.8344, -1.3579,  0.5481],\n",
       "         [-0.2142,  0.1298,  1.1046, -0.5846, -1.0976],\n",
       "         [ 0.3853, -0.0947,  0.1074, -0.1851,  1.2398],\n",
       "         [ 0.3337,  1.1863, -1.0006, -0.6425,  0.4698],\n",
       "         [ 0.3092,  0.5179,  1.0910, -0.4013, -1.4377],\n",
       "         [ 0.3337,  1.1863, -1.0006, -0.6425,  0.4698],\n",
       "         [ 0.0539,  0.6017, -1.3221, -0.2591,  0.2636],\n",
       "         [-0.2575, -0.3354, -0.8691,  0.2761, -0.0970]],\n",
       "        grad_fn=<SparseAddmmBackward0>)]"
      ]
     },
     "execution_count": 56,
     "metadata": {},
     "output_type": "execute_result"
    }
   ],
   "source": [
    "b"
   ]
  },
  {
   "cell_type": "code",
   "execution_count": 60,
   "metadata": {},
   "outputs": [],
   "source": [
    "b = torch.stack(b,dim=1)"
   ]
  },
  {
   "cell_type": "code",
   "execution_count": 2,
   "metadata": {},
   "outputs": [
    {
     "ename": "NameError",
     "evalue": "name 'torch' is not defined",
     "output_type": "error",
     "traceback": [
      "\u001b[0;31m---------------------------------------------------------------------------\u001b[0m",
      "\u001b[0;31mNameError\u001b[0m                                 Traceback (most recent call last)",
      "Cell \u001b[0;32mIn[2], line 1\u001b[0m\n\u001b[0;32m----> 1\u001b[0m light_out \u001b[38;5;241m=\u001b[39m \u001b[43mtorch\u001b[49m\u001b[38;5;241m.\u001b[39mmean(b, dim\u001b[38;5;241m=\u001b[39m\u001b[38;5;241m1\u001b[39m)\n",
      "\u001b[0;31mNameError\u001b[0m: name 'torch' is not defined"
     ]
    }
   ],
   "source": [
    "light_out = torch.mean(b, dim=1)"
   ]
  },
  {
   "cell_type": "code",
   "execution_count": 1,
   "metadata": {},
   "outputs": [
    {
     "ename": "NameError",
     "evalue": "name 'light_out' is not defined",
     "output_type": "error",
     "traceback": [
      "\u001b[0;31m---------------------------------------------------------------------------\u001b[0m",
      "\u001b[0;31mNameError\u001b[0m                                 Traceback (most recent call last)",
      "Cell \u001b[0;32mIn[1], line 1\u001b[0m\n\u001b[0;32m----> 1\u001b[0m \u001b[43mlight_out\u001b[49m[\u001b[38;5;241m0\u001b[39m]\n",
      "\u001b[0;31mNameError\u001b[0m: name 'light_out' is not defined"
     ]
    }
   ],
   "source": [
    "light_out[0]"
   ]
  },
  {
   "cell_type": "code",
   "execution_count": null,
   "metadata": {},
   "outputs": [],
   "source": [
    "light_out[0]"
   ]
  },
  {
   "cell_type": "code",
   "execution_count": 63,
   "metadata": {},
   "outputs": [
    {
     "data": {
      "text/plain": [
       "tensor([[[ 1,  2,  3],\n",
       "         [ 7,  8,  9]],\n",
       "\n",
       "        [[ 4,  5,  6],\n",
       "         [10, 11, 12]]])"
      ]
     },
     "execution_count": 63,
     "metadata": {},
     "output_type": "execute_result"
    }
   ],
   "source": [
    "tensor1 = torch.tensor([[1, 2, 3], [4, 5, 6]])\n",
    "tensor2 = torch.tensor([[7, 8, 9], [10, 11, 12]])\n",
    "\n",
    "# 使用 torch.stack() 函数将两个张量堆叠在一起\n",
    "stacked_tensor = torch.stack([tensor1, tensor2],dim=1)\n",
    "stacked_tensor"
   ]
  },
  {
   "cell_type": "code",
   "execution_count": null,
   "metadata": {},
   "outputs": [],
   "source": [
    "users, items = torch.split(light_out, [self.num_users, self.num_items])"
   ]
  },
  {
   "cell_type": "code",
   "execution_count": 1,
   "metadata": {},
   "outputs": [],
   "source": [
    "import torch\n",
    "batch_size = 5\n",
    "voc = 10\n",
    "rank = torch.randn(batch_size,voc)"
   ]
  },
  {
   "cell_type": "code",
   "execution_count": 2,
   "metadata": {},
   "outputs": [
    {
     "data": {
      "text/plain": [
       "tensor([[ 1.2008, -1.6609,  1.9343,  1.0009, -0.5086,  0.7318,  0.6679, -0.0940,\n",
       "          0.2518, -1.5456],\n",
       "        [ 0.9686,  0.2994,  1.3507, -0.1406,  0.8614, -0.0312,  0.1206,  0.5280,\n",
       "         -0.6347,  0.6546],\n",
       "        [-0.3691,  0.7874,  0.2441, -0.1598,  1.4536, -1.1945, -0.8731,  0.7878,\n",
       "         -0.0754, -0.4170],\n",
       "        [-0.7047, -2.2025,  1.7144,  0.4498,  1.1371,  0.5230, -0.6301,  1.5473,\n",
       "         -1.1550, -0.7806],\n",
       "        [ 0.3932, -1.6229, -1.2678, -0.1566,  1.7816,  0.8374,  0.2671,  0.0594,\n",
       "         -0.8235, -0.1192]])"
      ]
     },
     "execution_count": 2,
     "metadata": {},
     "output_type": "execute_result"
    }
   ],
   "source": [
    "rank\n"
   ]
  },
  {
   "cell_type": "code",
   "execution_count": 3,
   "metadata": {},
   "outputs": [],
   "source": [
    "a,b = torch.topk(rank, k=5)"
   ]
  },
  {
   "cell_type": "code",
   "execution_count": 4,
   "metadata": {},
   "outputs": [
    {
     "data": {
      "text/plain": [
       "tensor([[ 1.9343,  1.2008,  1.0009,  0.7318,  0.6679],\n",
       "        [ 1.3507,  0.9686,  0.8614,  0.6546,  0.5280],\n",
       "        [ 1.4536,  0.7878,  0.7874,  0.2441, -0.0754],\n",
       "        [ 1.7144,  1.5473,  1.1371,  0.5230,  0.4498],\n",
       "        [ 1.7816,  0.8374,  0.3932,  0.2671,  0.0594]])"
      ]
     },
     "execution_count": 4,
     "metadata": {},
     "output_type": "execute_result"
    }
   ],
   "source": [
    "a"
   ]
  },
  {
   "cell_type": "code",
   "execution_count": 5,
   "metadata": {},
   "outputs": [
    {
     "data": {
      "text/plain": [
       "tensor([[2, 0, 3, 5, 6],\n",
       "        [2, 0, 4, 9, 7],\n",
       "        [4, 7, 1, 2, 8],\n",
       "        [2, 7, 4, 5, 3],\n",
       "        [4, 5, 0, 6, 7]])"
      ]
     },
     "execution_count": 5,
     "metadata": {},
     "output_type": "execute_result"
    }
   ],
   "source": [
    "b"
   ]
  },
  {
   "cell_type": "code",
   "execution_count": 8,
   "metadata": {},
   "outputs": [],
   "source": [
    "import numpy as np\n",
    "a = np.random.randn(3, 5)\n"
   ]
  },
  {
   "cell_type": "code",
   "execution_count": 14,
   "metadata": {},
   "outputs": [],
   "source": [
    "a[0,:2]=1"
   ]
  },
  {
   "cell_type": "code",
   "execution_count": 15,
   "metadata": {},
   "outputs": [
    {
     "data": {
      "text/plain": [
       "array([[ 1.        ,  1.        ,  2.58089788,  0.36540889,  1.        ],\n",
       "       [ 1.81336212,  0.14038956,  0.64086827,  0.96425241,  1.        ],\n",
       "       [-1.22044359, -1.11297507,  0.11281308, -0.47448022,  1.        ]])"
      ]
     },
     "execution_count": 15,
     "metadata": {},
     "output_type": "execute_result"
    }
   ],
   "source": [
    "a"
   ]
  },
  {
   "cell_type": "code",
   "execution_count": 9,
   "metadata": {},
   "outputs": [],
   "source": [
    "import numpy as np\n",
    "k = 5\n",
    "b =  1./np.log2(np.arange(2, k + 2))"
   ]
  },
  {
   "cell_type": "code",
   "execution_count": 10,
   "metadata": {},
   "outputs": [
    {
     "data": {
      "text/plain": [
       "array([1.        , 0.63092975, 0.5       , 0.43067656, 0.38685281])"
      ]
     },
     "execution_count": 10,
     "metadata": {},
     "output_type": "execute_result"
    }
   ],
   "source": [
    "b"
   ]
  },
  {
   "cell_type": "code",
   "execution_count": 11,
   "metadata": {},
   "outputs": [
    {
     "data": {
      "text/plain": [
       "array([[-1.26063632, -0.57880695,  1.29044894,  0.15737304,  0.02228321],\n",
       "       [ 1.81336212,  0.08857595,  0.32043414,  0.41528091,  0.06883264],\n",
       "       [-1.22044359, -0.70220909,  0.05640654, -0.20434751, -0.13735176]])"
      ]
     },
     "execution_count": 11,
     "metadata": {},
     "output_type": "execute_result"
    }
   ],
   "source": [
    "a * b"
   ]
  },
  {
   "cell_type": "code",
   "execution_count": 4,
   "metadata": {},
   "outputs": [],
   "source": [
    "import numpy as np\n",
    "item_popularity = np.array([4,3,5,1,2,0,6,7])\n",
    "threshold = 3\n",
    "positive_samples = np.where(item_popularity > threshold)\n",
    "negative_samples = item_popularity[item_popularity <= threshold]"
   ]
  },
  {
   "cell_type": "code",
   "execution_count": 5,
   "metadata": {},
   "outputs": [
    {
     "data": {
      "text/plain": [
       "(array([0, 2, 6, 7]),)"
      ]
     },
     "execution_count": 5,
     "metadata": {},
     "output_type": "execute_result"
    }
   ],
   "source": [
    "positive_samples"
   ]
  },
  {
   "cell_type": "code",
   "execution_count": 1,
   "metadata": {},
   "outputs": [],
   "source": [
    "import torch\n",
    "anchor_emb = torch.randn(5, 10)\n",
    "pos_emb = torch.randn(5, 10)\n",
    "a = torch.matmul(anchor_emb, pos_emb.T)"
   ]
  },
  {
   "cell_type": "code",
   "execution_count": null,
   "metadata": {},
   "outputs": [],
   "source": []
  }
 ],
 "metadata": {
  "kernelspec": {
   "display_name": "base",
   "language": "python",
   "name": "python3"
  },
  "language_info": {
   "codemirror_mode": {
    "name": "ipython",
    "version": 3
   },
   "file_extension": ".py",
   "mimetype": "text/x-python",
   "name": "python",
   "nbconvert_exporter": "python",
   "pygments_lexer": "ipython3",
   "version": "3.8.10"
  }
 },
 "nbformat": 4,
 "nbformat_minor": 2
}
