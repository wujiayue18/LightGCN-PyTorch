{
 "cells": [
  {
   "cell_type": "code",
   "execution_count": 1,
   "metadata": {},
   "outputs": [
    {
     "name": "stdout",
     "output_type": "stream",
     "text": [
      "  (0, 3)\t1.0\n",
      "  (0, 4)\t1.0\n",
      "  (1, 0)\t1.0\n",
      "  (1, 2)\t1.0\n",
      "  (1, 3)\t1.0\n",
      "  (2, 1)\t1.0\n"
     ]
    }
   ],
   "source": [
    "from scipy.sparse import csr_matrix\n",
    "import scipy as sp\n",
    "import numpy as np\n",
    "trainUser = np.array([1,1,2,2,2,3]) - 1\n",
    "trainItem = np.array([4,5,1,3,4,2]) - 1\n",
    "n_user = 3\n",
    "m_item = 5\n",
    "UserItemNet = csr_matrix((np.ones(len(trainUser)), (trainUser, trainItem)),\n",
    "                                      shape=(n_user, m_item))\n",
    "print(UserItemNet)"
   ]
  },
  {
   "cell_type": "code",
   "execution_count": 4,
   "metadata": {},
   "outputs": [
    {
     "data": {
      "text/plain": [
       "array([0, 1, 2, 3])"
      ]
     },
     "execution_count": 4,
     "metadata": {},
     "output_type": "execute_result"
    }
   ],
   "source": [
    "np.arange(4)"
   ]
  },
  {
   "cell_type": "code",
   "execution_count": 15,
   "metadata": {},
   "outputs": [
    {
     "data": {
      "text/plain": [
       "torch.Size([40000, 1, 1, 64])"
      ]
     },
     "execution_count": 15,
     "metadata": {},
     "output_type": "execute_result"
    }
   ],
   "source": [
    "import torch\n",
    "a = torch.randn((40000,1,1,64))\n",
    "a.shape"
   ]
  },
  {
   "cell_type": "code",
   "execution_count": 20,
   "metadata": {},
   "outputs": [
    {
     "data": {
      "text/plain": [
       "torch.Size([2, 64, 10])"
      ]
     },
     "execution_count": 20,
     "metadata": {},
     "output_type": "execute_result"
    }
   ],
   "source": [
    "import torch.nn as nn\n",
    "num_steers = 2\n",
    "latent_dim = 64\n",
    "rank = 10\n",
    "init_var = 0.1\n",
    "b = nn.Parameter(torch.randn(num_steers, latent_dim, rank) * init_var)\n",
    "b.shape"
   ]
  },
  {
   "cell_type": "code",
   "execution_count": 23,
   "metadata": {},
   "outputs": [],
   "source": [
    "c = a.matmul(b[None])"
   ]
  },
  {
   "cell_type": "code",
   "execution_count": 24,
   "metadata": {},
   "outputs": [
    {
     "data": {
      "text/plain": [
       "torch.Size([40000, 2, 1, 10])"
      ]
     },
     "execution_count": 24,
     "metadata": {},
     "output_type": "execute_result"
    }
   ],
   "source": [
    "c.shape"
   ]
  },
  {
   "cell_type": "code",
   "execution_count": 2,
   "metadata": {},
   "outputs": [
    {
     "data": {
      "text/plain": [
       "array([0, 0, 1, 1, 2, 2])"
      ]
     },
     "execution_count": 2,
     "metadata": {},
     "output_type": "execute_result"
    }
   ],
   "source": [
    "highpo_samples = np.array([2,3])\n",
    "rows = np.arange(n_user)[:,None]\n",
    "rows = np.repeat(rows,len(highpo_samples),axis=1).flatten()\n",
    "rows"
   ]
  },
  {
   "cell_type": "code",
   "execution_count": 3,
   "metadata": {},
   "outputs": [
    {
     "data": {
      "text/plain": [
       "array([2, 3, 2, 3, 2, 3])"
      ]
     },
     "execution_count": 3,
     "metadata": {},
     "output_type": "execute_result"
    }
   ],
   "source": [
    "cols = np.tile(highpo_samples, n_user)\n",
    "cols"
   ]
  },
  {
   "cell_type": "code",
   "execution_count": 24,
   "metadata": {},
   "outputs": [
    {
     "data": {
      "text/plain": [
       "array([0, 0, 1, 1, 2, 2])"
      ]
     },
     "execution_count": 24,
     "metadata": {},
     "output_type": "execute_result"
    }
   ],
   "source": [
    "rows"
   ]
  },
  {
   "cell_type": "code",
   "execution_count": 23,
   "metadata": {},
   "outputs": [
    {
     "data": {
      "text/plain": [
       "array([2, 3, 2, 3, 2, 3])"
      ]
     },
     "execution_count": 23,
     "metadata": {},
     "output_type": "execute_result"
    }
   ],
   "source": [
    "cols"
   ]
  },
  {
   "cell_type": "code",
   "execution_count": 26,
   "metadata": {},
   "outputs": [
    {
     "data": {
      "text/plain": [
       "array([1, 1, 1, 1, 1, 1])"
      ]
     },
     "execution_count": 26,
     "metadata": {},
     "output_type": "execute_result"
    }
   ],
   "source": [
    "data = np.ones_like(cols)\n",
    "data"
   ]
  },
  {
   "cell_type": "code",
   "execution_count": 28,
   "metadata": {},
   "outputs": [],
   "source": [
    "user_popularity = csr_matrix((data, (rows, cols)), shape=(n_user, m_item))"
   ]
  },
  {
   "cell_type": "code",
   "execution_count": 30,
   "metadata": {},
   "outputs": [
    {
     "name": "stdout",
     "output_type": "stream",
     "text": [
      "  (0, 2)\t1\n",
      "  (0, 3)\t1\n",
      "  (1, 2)\t1\n",
      "  (1, 3)\t1\n",
      "  (2, 2)\t1\n",
      "  (2, 3)\t1\n"
     ]
    }
   ],
   "source": [
    "print(user_popularity)"
   ]
  },
  {
   "cell_type": "code",
   "execution_count": 32,
   "metadata": {},
   "outputs": [
    {
     "name": "stdout",
     "output_type": "stream",
     "text": [
      "  (0, 3)\t1.0\n",
      "  (1, 2)\t1.0\n",
      "  (1, 3)\t1.0\n"
     ]
    }
   ],
   "source": [
    "user_popularity = user_popularity.multiply(UserItemNet)\n",
    "print(user_popularity)"
   ]
  },
  {
   "cell_type": "code",
   "execution_count": 7,
   "metadata": {},
   "outputs": [
    {
     "ename": "IndexError",
     "evalue": "too many indices for array: array is 0-dimensional, but 1 were indexed",
     "output_type": "error",
     "traceback": [
      "\u001b[0;31m---------------------------------------------------------------------------\u001b[0m",
      "\u001b[0;31mIndexError\u001b[0m                                Traceback (most recent call last)",
      "Cell \u001b[0;32mIn[7], line 2\u001b[0m\n\u001b[1;32m      1\u001b[0m highpo_samples \u001b[38;5;241m=\u001b[39m np\u001b[38;5;241m.\u001b[39marray([[\u001b[38;5;241m2\u001b[39m,\u001b[38;5;241m3\u001b[39m]])\n\u001b[0;32m----> 2\u001b[0m \u001b[43muser_popularity\u001b[49m\u001b[43m[\u001b[49m\u001b[43mhighpo_samples\u001b[49m\u001b[43m]\u001b[49m \u001b[38;5;241m=\u001b[39m \u001b[38;5;241m1\u001b[39m\n",
      "\u001b[0;31mIndexError\u001b[0m: too many indices for array: array is 0-dimensional, but 1 were indexed"
     ]
    }
   ],
   "source": [
    "highpo_samples = np.array([2,3])\n",
    "user_popularity[highpo_samples] = 1"
   ]
  },
  {
   "cell_type": "code",
   "execution_count": 3,
   "metadata": {},
   "outputs": [
    {
     "data": {
      "text/plain": [
       "array([3, 4], dtype=int32)"
      ]
     },
     "execution_count": 3,
     "metadata": {},
     "output_type": "execute_result"
    }
   ],
   "source": [
    "UserItemNet[0].nonzero()[1]"
   ]
  },
  {
   "cell_type": "code",
   "execution_count": 4,
   "metadata": {},
   "outputs": [],
   "source": [
    "posItems = []\n",
    "posItems.append(UserItemNet[0].nonzero()[1])"
   ]
  },
  {
   "cell_type": "code",
   "execution_count": 6,
   "metadata": {},
   "outputs": [
    {
     "data": {
      "text/plain": [
       "[array([3, 4], dtype=int32), array([0, 2, 3], dtype=int32)]"
      ]
     },
     "execution_count": 6,
     "metadata": {},
     "output_type": "execute_result"
    }
   ],
   "source": [
    "posItems.append(UserItemNet[1].nonzero()[1])\n",
    "posItems"
   ]
  },
  {
   "cell_type": "code",
   "execution_count": 12,
   "metadata": {},
   "outputs": [
    {
     "data": {
      "text/plain": [
       "<method-wrapper '__getattribute__' of numpy.float64 object at 0x7fb0e284bb90>"
      ]
     },
     "execution_count": 12,
     "metadata": {},
     "output_type": "execute_result"
    }
   ],
   "source": [
    "UserItemNet[0,3].__getattribute__"
   ]
  },
  {
   "cell_type": "code",
   "execution_count": 12,
   "metadata": {},
   "outputs": [],
   "source": [
    "import scipy.sparse as sp\n",
    "adj_mat = sp.dok_matrix((n_user + m_item, n_user + m_item), dtype=np.float32)\n",
    "adj_mat = adj_mat.tolil()"
   ]
  },
  {
   "cell_type": "code",
   "execution_count": 19,
   "metadata": {},
   "outputs": [
    {
     "data": {
      "text/plain": [
       "<8x8 sparse matrix of type '<class 'numpy.float32'>'\n",
       "\twith 0 stored elements in Dictionary Of Keys format>"
      ]
     },
     "execution_count": 19,
     "metadata": {},
     "output_type": "execute_result"
    }
   ],
   "source": [
    "a"
   ]
  },
  {
   "cell_type": "code",
   "execution_count": 13,
   "metadata": {},
   "outputs": [],
   "source": [
    "R = UserItemNet.tolil()"
   ]
  },
  {
   "cell_type": "code",
   "execution_count": 14,
   "metadata": {},
   "outputs": [],
   "source": [
    "adj_mat[:n_user, n_user:] = R\n",
    "adj_mat[n_user:, :n_user] = R.T\n"
   ]
  },
  {
   "cell_type": "code",
   "execution_count": 15,
   "metadata": {},
   "outputs": [],
   "source": [
    "adj_mat = adj_mat.todok()"
   ]
  },
  {
   "cell_type": "code",
   "execution_count": 33,
   "metadata": {},
   "outputs": [
    {
     "name": "stdout",
     "output_type": "stream",
     "text": [
      "  (6, 0)\t1.0\n",
      "  (7, 0)\t1.0\n",
      "  (3, 1)\t1.0\n",
      "  (5, 1)\t1.0\n",
      "  (6, 1)\t1.0\n",
      "  (4, 2)\t1.0\n",
      "  (1, 3)\t1.0\n",
      "  (2, 4)\t1.0\n",
      "  (1, 5)\t1.0\n",
      "  (0, 6)\t1.0\n",
      "  (1, 6)\t1.0\n",
      "  (0, 7)\t1.0\n"
     ]
    }
   ],
   "source": [
    "print(adj_mat)"
   ]
  },
  {
   "cell_type": "code",
   "execution_count": 16,
   "metadata": {},
   "outputs": [
    {
     "data": {
      "text/plain": [
       "array([[2.],\n",
       "       [3.],\n",
       "       [1.],\n",
       "       [1.],\n",
       "       [1.],\n",
       "       [1.],\n",
       "       [2.],\n",
       "       [1.]], dtype=float32)"
      ]
     },
     "execution_count": 16,
     "metadata": {},
     "output_type": "execute_result"
    }
   ],
   "source": [
    "rowsum = np.array(adj_mat.sum(axis=1))\n",
    "rowsum"
   ]
  },
  {
   "cell_type": "code",
   "execution_count": 17,
   "metadata": {},
   "outputs": [
    {
     "data": {
      "text/plain": [
       "array([0.70710677, 0.57735026, 1.        , 1.        , 1.        ,\n",
       "       1.        , 0.70710677, 1.        ], dtype=float32)"
      ]
     },
     "execution_count": 17,
     "metadata": {},
     "output_type": "execute_result"
    }
   ],
   "source": [
    "d_inv = np.power(rowsum, -0.5).flatten()\n",
    "d_inv"
   ]
  },
  {
   "cell_type": "code",
   "execution_count": 18,
   "metadata": {},
   "outputs": [
    {
     "name": "stdout",
     "output_type": "stream",
     "text": [
      "  (0, 0)\t0.70710677\n",
      "  (1, 1)\t0.57735026\n",
      "  (2, 2)\t1.0\n",
      "  (3, 3)\t1.0\n",
      "  (4, 4)\t1.0\n",
      "  (5, 5)\t1.0\n",
      "  (6, 6)\t0.70710677\n",
      "  (7, 7)\t1.0\n"
     ]
    }
   ],
   "source": [
    "d_mat = sp.diags(d_inv)\n",
    "print(d_mat)"
   ]
  },
  {
   "cell_type": "code",
   "execution_count": 19,
   "metadata": {},
   "outputs": [
    {
     "name": "stdout",
     "output_type": "stream",
     "text": [
      "  (0, 7)\t0.70710677\n",
      "  (0, 6)\t0.70710677\n",
      "  (1, 6)\t0.57735026\n",
      "  (1, 5)\t0.57735026\n",
      "  (1, 3)\t0.57735026\n",
      "  (2, 4)\t1.0\n",
      "  (3, 1)\t1.0\n",
      "  (4, 2)\t1.0\n",
      "  (5, 1)\t1.0\n",
      "  (6, 1)\t0.70710677\n",
      "  (6, 0)\t0.70710677\n",
      "  (7, 0)\t1.0\n"
     ]
    }
   ],
   "source": [
    "norm_adj = d_mat.dot(adj_mat)\n",
    "print(norm_adj)"
   ]
  },
  {
   "cell_type": "code",
   "execution_count": 20,
   "metadata": {},
   "outputs": [
    {
     "name": "stdout",
     "output_type": "stream",
     "text": [
      "  (0, 6)\t0.49999997\n",
      "  (0, 7)\t0.70710677\n",
      "  (1, 3)\t0.57735026\n",
      "  (1, 5)\t0.57735026\n",
      "  (1, 6)\t0.40824828\n",
      "  (2, 4)\t1.0\n",
      "  (3, 1)\t0.57735026\n",
      "  (4, 2)\t1.0\n",
      "  (5, 1)\t0.57735026\n",
      "  (6, 0)\t0.49999997\n",
      "  (6, 1)\t0.40824828\n",
      "  (7, 0)\t0.70710677\n"
     ]
    }
   ],
   "source": [
    "norm_adj = norm_adj.dot(d_mat)\n",
    "print(norm_adj)"
   ]
  },
  {
   "cell_type": "code",
   "execution_count": 21,
   "metadata": {},
   "outputs": [
    {
     "name": "stdout",
     "output_type": "stream",
     "text": [
      "  (0, 6)\t0.49999997\n",
      "  (0, 7)\t0.70710677\n",
      "  (1, 3)\t0.57735026\n",
      "  (1, 5)\t0.57735026\n",
      "  (1, 6)\t0.40824828\n",
      "  (2, 4)\t1.0\n",
      "  (3, 1)\t0.57735026\n",
      "  (4, 2)\t1.0\n",
      "  (5, 1)\t0.57735026\n",
      "  (6, 0)\t0.49999997\n",
      "  (6, 1)\t0.40824828\n",
      "  (7, 0)\t0.70710677\n"
     ]
    }
   ],
   "source": [
    "norm_adj = norm_adj.tocsr()\n",
    "print(norm_adj)"
   ]
  },
  {
   "cell_type": "code",
   "execution_count": 22,
   "metadata": {},
   "outputs": [],
   "source": [
    "X = norm_adj\n",
    "coo = X.tocoo().astype(np.float32)"
   ]
  },
  {
   "cell_type": "code",
   "execution_count": 27,
   "metadata": {},
   "outputs": [],
   "source": [
    "import torch\n",
    "coo = X.tocoo().astype(np.float32)\n",
    "row = torch.Tensor(coo.row).long()\n",
    "col = torch.Tensor(coo.col).long()\n",
    "index = torch.stack([row, col])\n",
    "data = torch.FloatTensor(coo.data)"
   ]
  },
  {
   "cell_type": "code",
   "execution_count": 32,
   "metadata": {},
   "outputs": [],
   "source": [
    "a = torch.sparse.FloatTensor(index, data, torch.Size(coo.shape)).coalesce()"
   ]
  },
  {
   "cell_type": "code",
   "execution_count": 38,
   "metadata": {},
   "outputs": [],
   "source": [
    "keep_prob = 0.6"
   ]
  },
  {
   "cell_type": "code",
   "execution_count": 39,
   "metadata": {},
   "outputs": [
    {
     "data": {
      "text/plain": [
       "tensor([1.5051, 1.4183, 1.5672, 1.1399, 0.9426, 1.4170, 1.3702, 1.5139, 1.3634,\n",
       "        0.8299, 1.0084, 1.3435])"
      ]
     },
     "execution_count": 39,
     "metadata": {},
     "output_type": "execute_result"
    }
   ],
   "source": [
    "random_index = torch.rand(len(a.values())) + keep_prob\n",
    "random_index"
   ]
  },
  {
   "cell_type": "code",
   "execution_count": 41,
   "metadata": {},
   "outputs": [],
   "source": [
    "random_index = random_index.int().bool()"
   ]
  },
  {
   "cell_type": "code",
   "execution_count": 43,
   "metadata": {},
   "outputs": [
    {
     "data": {
      "text/plain": [
       "tensor([[0, 6],\n",
       "        [0, 7],\n",
       "        [1, 3],\n",
       "        [1, 5],\n",
       "        [2, 4],\n",
       "        [3, 1],\n",
       "        [4, 2],\n",
       "        [5, 1],\n",
       "        [6, 1],\n",
       "        [7, 0]])"
      ]
     },
     "execution_count": 43,
     "metadata": {},
     "output_type": "execute_result"
    }
   ],
   "source": [
    "index = a.indices().t()\n",
    "index = index[random_index]\n",
    "index"
   ]
  },
  {
   "cell_type": "code",
   "execution_count": 44,
   "metadata": {},
   "outputs": [
    {
     "data": {
      "text/plain": [
       "tensor([[0, 6],\n",
       "        [0, 7],\n",
       "        [1, 3],\n",
       "        [1, 5],\n",
       "        [1, 6],\n",
       "        [2, 4],\n",
       "        [3, 1],\n",
       "        [4, 2],\n",
       "        [5, 1],\n",
       "        [6, 0],\n",
       "        [6, 1],\n",
       "        [7, 0]])"
      ]
     },
     "execution_count": 44,
     "metadata": {},
     "output_type": "execute_result"
    }
   ],
   "source": [
    "a.indices().t()"
   ]
  },
  {
   "cell_type": "code",
   "execution_count": 47,
   "metadata": {},
   "outputs": [],
   "source": [
    "import torch\n",
    "row = torch.Tensor(coo.row).long()\n",
    "col = torch.Tensor(coo.col).long()\n",
    "index = torch.stack([row, col])"
   ]
  },
  {
   "cell_type": "code",
   "execution_count": null,
   "metadata": {},
   "outputs": [
    {
     "data": {
      "text/plain": [
       "tensor([[0, 0, 1, 1, 1, 2, 3, 4, 5, 6, 6, 7],\n",
       "        [6, 7, 3, 5, 6, 4, 1, 2, 1, 0, 1, 0]])"
      ]
     },
     "execution_count": 48,
     "metadata": {},
     "output_type": "execute_result"
    }
   ],
   "source": [
    "index[0]"
   ]
  },
  {
   "cell_type": "code",
   "execution_count": 4,
   "metadata": {},
   "outputs": [],
   "source": [
    "import numpy as np\n",
    "batch_size = 5\n",
    "users = np.random.randint(0,10,5)\n",
    "pos = np.random.randint(0,5,5)\n",
    "neg = np.random.randint(0,20,5)"
   ]
  },
  {
   "cell_type": "code",
   "execution_count": 6,
   "metadata": {},
   "outputs": [],
   "source": [
    "import torch\n",
    "n_dim = 5\n",
    "n_user = 5\n",
    "m_item = 3\n",
    "embedding_user = torch.nn.Embedding(n_user, n_dim).weight\n",
    "embedding_item = torch.nn.Embedding(m_item, n_dim).weight"
   ]
  },
  {
   "cell_type": "code",
   "execution_count": 7,
   "metadata": {},
   "outputs": [
    {
     "data": {
      "text/plain": [
       "tensor([ 0.4374,  0.5484,  0.4191, -1.2630, -0.0174], grad_fn=<MulBackward0>)"
      ]
     },
     "execution_count": 7,
     "metadata": {},
     "output_type": "execute_result"
    }
   ],
   "source": [
    "torch.mul(embedding_user[0],embedding_item[0])"
   ]
  },
  {
   "cell_type": "code",
   "execution_count": 49,
   "metadata": {},
   "outputs": [
    {
     "data": {
      "text/plain": [
       "tensor([[-0.3642, -0.4743, -1.2291,  0.3904, -0.1371],\n",
       "        [ 0.5780,  2.0548, -1.7331, -1.1129,  0.8137],\n",
       "        [ 0.3092,  0.5179,  1.0910, -0.4013, -1.4377],\n",
       "        [-0.1943,  1.1920,  0.2614,  0.5418, -1.9513],\n",
       "        [ 0.3853, -0.0947,  0.1074, -0.1851,  1.2398],\n",
       "        [-0.4665, -1.1952,  0.6807, -1.0512,  0.4131],\n",
       "        [ 0.4097,  0.3224,  1.3734, -0.7116, -0.5134],\n",
       "        [ 1.4123, -0.9352,  0.2088, -1.4172,  1.1381]], grad_fn=<CatBackward0>)"
      ]
     },
     "execution_count": 49,
     "metadata": {},
     "output_type": "execute_result"
    }
   ],
   "source": [
    "all_emb = torch.cat([embedding_user, embedding_item])\n",
    "all_emb"
   ]
  },
  {
   "cell_type": "code",
   "execution_count": 50,
   "metadata": {},
   "outputs": [
    {
     "data": {
      "text/plain": [
       "tensor([[ 1.2035, -0.5001,  0.8344, -1.3579,  0.5481],\n",
       "        [-0.2142,  0.1298,  1.1046, -0.5846, -1.0976],\n",
       "        [ 0.3853, -0.0947,  0.1074, -0.1851,  1.2398],\n",
       "        [ 0.3337,  1.1863, -1.0006, -0.6425,  0.4698],\n",
       "        [ 0.3092,  0.5179,  1.0910, -0.4013, -1.4377],\n",
       "        [ 0.3337,  1.1863, -1.0006, -0.6425,  0.4698],\n",
       "        [ 0.0539,  0.6017, -1.3221, -0.2591,  0.2636],\n",
       "        [-0.2575, -0.3354, -0.8691,  0.2761, -0.0970]],\n",
       "       grad_fn=<SparseAddmmBackward0>)"
      ]
     },
     "execution_count": 50,
     "metadata": {},
     "output_type": "execute_result"
    }
   ],
   "source": [
    "all_emb = torch.sparse.mm(a, all_emb)\n",
    "all_emb"
   ]
  },
  {
   "cell_type": "code",
   "execution_count": 54,
   "metadata": {},
   "outputs": [],
   "source": [
    "b = []"
   ]
  },
  {
   "cell_type": "code",
   "execution_count": 55,
   "metadata": {},
   "outputs": [],
   "source": [
    "b.append(all_emb)\n",
    "b.append(all_emb)"
   ]
  },
  {
   "cell_type": "code",
   "execution_count": 56,
   "metadata": {},
   "outputs": [
    {
     "data": {
      "text/plain": [
       "[tensor([[ 1.2035, -0.5001,  0.8344, -1.3579,  0.5481],\n",
       "         [-0.2142,  0.1298,  1.1046, -0.5846, -1.0976],\n",
       "         [ 0.3853, -0.0947,  0.1074, -0.1851,  1.2398],\n",
       "         [ 0.3337,  1.1863, -1.0006, -0.6425,  0.4698],\n",
       "         [ 0.3092,  0.5179,  1.0910, -0.4013, -1.4377],\n",
       "         [ 0.3337,  1.1863, -1.0006, -0.6425,  0.4698],\n",
       "         [ 0.0539,  0.6017, -1.3221, -0.2591,  0.2636],\n",
       "         [-0.2575, -0.3354, -0.8691,  0.2761, -0.0970]],\n",
       "        grad_fn=<SparseAddmmBackward0>),\n",
       " tensor([[ 1.2035, -0.5001,  0.8344, -1.3579,  0.5481],\n",
       "         [-0.2142,  0.1298,  1.1046, -0.5846, -1.0976],\n",
       "         [ 0.3853, -0.0947,  0.1074, -0.1851,  1.2398],\n",
       "         [ 0.3337,  1.1863, -1.0006, -0.6425,  0.4698],\n",
       "         [ 0.3092,  0.5179,  1.0910, -0.4013, -1.4377],\n",
       "         [ 0.3337,  1.1863, -1.0006, -0.6425,  0.4698],\n",
       "         [ 0.0539,  0.6017, -1.3221, -0.2591,  0.2636],\n",
       "         [-0.2575, -0.3354, -0.8691,  0.2761, -0.0970]],\n",
       "        grad_fn=<SparseAddmmBackward0>)]"
      ]
     },
     "execution_count": 56,
     "metadata": {},
     "output_type": "execute_result"
    }
   ],
   "source": [
    "b"
   ]
  },
  {
   "cell_type": "code",
   "execution_count": 60,
   "metadata": {},
   "outputs": [],
   "source": [
    "b = torch.stack(b,dim=1)"
   ]
  },
  {
   "cell_type": "code",
   "execution_count": 2,
   "metadata": {},
   "outputs": [
    {
     "ename": "NameError",
     "evalue": "name 'torch' is not defined",
     "output_type": "error",
     "traceback": [
      "\u001b[0;31m---------------------------------------------------------------------------\u001b[0m",
      "\u001b[0;31mNameError\u001b[0m                                 Traceback (most recent call last)",
      "Cell \u001b[0;32mIn[2], line 1\u001b[0m\n\u001b[0;32m----> 1\u001b[0m light_out \u001b[38;5;241m=\u001b[39m \u001b[43mtorch\u001b[49m\u001b[38;5;241m.\u001b[39mmean(b, dim\u001b[38;5;241m=\u001b[39m\u001b[38;5;241m1\u001b[39m)\n",
      "\u001b[0;31mNameError\u001b[0m: name 'torch' is not defined"
     ]
    }
   ],
   "source": [
    "light_out = torch.mean(b, dim=1)"
   ]
  },
  {
   "cell_type": "code",
   "execution_count": 1,
   "metadata": {},
   "outputs": [
    {
     "ename": "NameError",
     "evalue": "name 'light_out' is not defined",
     "output_type": "error",
     "traceback": [
      "\u001b[0;31m---------------------------------------------------------------------------\u001b[0m",
      "\u001b[0;31mNameError\u001b[0m                                 Traceback (most recent call last)",
      "Cell \u001b[0;32mIn[1], line 1\u001b[0m\n\u001b[0;32m----> 1\u001b[0m \u001b[43mlight_out\u001b[49m[\u001b[38;5;241m0\u001b[39m]\n",
      "\u001b[0;31mNameError\u001b[0m: name 'light_out' is not defined"
     ]
    }
   ],
   "source": [
    "light_out[0]"
   ]
  },
  {
   "cell_type": "code",
   "execution_count": null,
   "metadata": {},
   "outputs": [],
   "source": [
    "light_out[0]"
   ]
  },
  {
   "cell_type": "code",
   "execution_count": 63,
   "metadata": {},
   "outputs": [
    {
     "data": {
      "text/plain": [
       "tensor([[[ 1,  2,  3],\n",
       "         [ 7,  8,  9]],\n",
       "\n",
       "        [[ 4,  5,  6],\n",
       "         [10, 11, 12]]])"
      ]
     },
     "execution_count": 63,
     "metadata": {},
     "output_type": "execute_result"
    }
   ],
   "source": [
    "tensor1 = torch.tensor([[1, 2, 3], [4, 5, 6]])\n",
    "tensor2 = torch.tensor([[7, 8, 9], [10, 11, 12]])\n",
    "\n",
    "# 使用 torch.stack() 函数将两个张量堆叠在一起\n",
    "stacked_tensor = torch.stack([tensor1, tensor2],dim=1)\n",
    "stacked_tensor"
   ]
  },
  {
   "cell_type": "code",
   "execution_count": null,
   "metadata": {},
   "outputs": [],
   "source": [
    "users, items = torch.split(light_out, [self.num_users, self.num_items])"
   ]
  },
  {
   "cell_type": "code",
   "execution_count": 1,
   "metadata": {},
   "outputs": [],
   "source": [
    "import torch\n",
    "batch_size = 5\n",
    "voc = 10\n",
    "rank = torch.randn(batch_size,voc)"
   ]
  },
  {
   "cell_type": "code",
   "execution_count": 2,
   "metadata": {},
   "outputs": [
    {
     "data": {
      "text/plain": [
       "tensor([[ 1.2008, -1.6609,  1.9343,  1.0009, -0.5086,  0.7318,  0.6679, -0.0940,\n",
       "          0.2518, -1.5456],\n",
       "        [ 0.9686,  0.2994,  1.3507, -0.1406,  0.8614, -0.0312,  0.1206,  0.5280,\n",
       "         -0.6347,  0.6546],\n",
       "        [-0.3691,  0.7874,  0.2441, -0.1598,  1.4536, -1.1945, -0.8731,  0.7878,\n",
       "         -0.0754, -0.4170],\n",
       "        [-0.7047, -2.2025,  1.7144,  0.4498,  1.1371,  0.5230, -0.6301,  1.5473,\n",
       "         -1.1550, -0.7806],\n",
       "        [ 0.3932, -1.6229, -1.2678, -0.1566,  1.7816,  0.8374,  0.2671,  0.0594,\n",
       "         -0.8235, -0.1192]])"
      ]
     },
     "execution_count": 2,
     "metadata": {},
     "output_type": "execute_result"
    }
   ],
   "source": [
    "rank\n"
   ]
  },
  {
   "cell_type": "code",
   "execution_count": 3,
   "metadata": {},
   "outputs": [],
   "source": [
    "a,b = torch.topk(rank, k=5)"
   ]
  },
  {
   "cell_type": "code",
   "execution_count": 4,
   "metadata": {},
   "outputs": [
    {
     "data": {
      "text/plain": [
       "tensor([[ 1.9343,  1.2008,  1.0009,  0.7318,  0.6679],\n",
       "        [ 1.3507,  0.9686,  0.8614,  0.6546,  0.5280],\n",
       "        [ 1.4536,  0.7878,  0.7874,  0.2441, -0.0754],\n",
       "        [ 1.7144,  1.5473,  1.1371,  0.5230,  0.4498],\n",
       "        [ 1.7816,  0.8374,  0.3932,  0.2671,  0.0594]])"
      ]
     },
     "execution_count": 4,
     "metadata": {},
     "output_type": "execute_result"
    }
   ],
   "source": [
    "a"
   ]
  },
  {
   "cell_type": "code",
   "execution_count": 5,
   "metadata": {},
   "outputs": [
    {
     "data": {
      "text/plain": [
       "tensor([[2, 0, 3, 5, 6],\n",
       "        [2, 0, 4, 9, 7],\n",
       "        [4, 7, 1, 2, 8],\n",
       "        [2, 7, 4, 5, 3],\n",
       "        [4, 5, 0, 6, 7]])"
      ]
     },
     "execution_count": 5,
     "metadata": {},
     "output_type": "execute_result"
    }
   ],
   "source": [
    "b"
   ]
  },
  {
   "cell_type": "code",
   "execution_count": 8,
   "metadata": {},
   "outputs": [],
   "source": [
    "import numpy as np\n",
    "a = np.random.randn(3, 5)\n"
   ]
  },
  {
   "cell_type": "code",
   "execution_count": 14,
   "metadata": {},
   "outputs": [],
   "source": [
    "a[0,:2]=1"
   ]
  },
  {
   "cell_type": "code",
   "execution_count": 15,
   "metadata": {},
   "outputs": [
    {
     "data": {
      "text/plain": [
       "array([[ 1.        ,  1.        ,  2.58089788,  0.36540889,  1.        ],\n",
       "       [ 1.81336212,  0.14038956,  0.64086827,  0.96425241,  1.        ],\n",
       "       [-1.22044359, -1.11297507,  0.11281308, -0.47448022,  1.        ]])"
      ]
     },
     "execution_count": 15,
     "metadata": {},
     "output_type": "execute_result"
    }
   ],
   "source": [
    "a"
   ]
  },
  {
   "cell_type": "code",
   "execution_count": 9,
   "metadata": {},
   "outputs": [],
   "source": [
    "import numpy as np\n",
    "k = 5\n",
    "b =  1./np.log2(np.arange(2, k + 2))"
   ]
  },
  {
   "cell_type": "code",
   "execution_count": 10,
   "metadata": {},
   "outputs": [
    {
     "data": {
      "text/plain": [
       "array([1.        , 0.63092975, 0.5       , 0.43067656, 0.38685281])"
      ]
     },
     "execution_count": 10,
     "metadata": {},
     "output_type": "execute_result"
    }
   ],
   "source": [
    "b"
   ]
  },
  {
   "cell_type": "code",
   "execution_count": 11,
   "metadata": {},
   "outputs": [
    {
     "data": {
      "text/plain": [
       "array([[-1.26063632, -0.57880695,  1.29044894,  0.15737304,  0.02228321],\n",
       "       [ 1.81336212,  0.08857595,  0.32043414,  0.41528091,  0.06883264],\n",
       "       [-1.22044359, -0.70220909,  0.05640654, -0.20434751, -0.13735176]])"
      ]
     },
     "execution_count": 11,
     "metadata": {},
     "output_type": "execute_result"
    }
   ],
   "source": [
    "a * b"
   ]
  },
  {
   "cell_type": "code",
   "execution_count": 4,
   "metadata": {},
   "outputs": [],
   "source": [
    "import numpy as np\n",
    "item_popularity = np.array([4,3,5,1,2,0,6,7])\n",
    "threshold = 3\n",
    "positive_samples = np.where(item_popularity > threshold)\n",
    "negative_samples = item_popularity[item_popularity <= threshold]"
   ]
  },
  {
   "cell_type": "code",
   "execution_count": 5,
   "metadata": {},
   "outputs": [
    {
     "data": {
      "text/plain": [
       "(array([0, 2, 6, 7]),)"
      ]
     },
     "execution_count": 5,
     "metadata": {},
     "output_type": "execute_result"
    }
   ],
   "source": [
    "positive_samples"
   ]
  },
  {
   "cell_type": "code",
   "execution_count": 1,
   "metadata": {},
   "outputs": [],
   "source": [
    "import torch\n",
    "anchor_emb = torch.randn(5, 10)\n",
    "pos_emb = torch.randn(5, 10)\n",
    "a = torch.matmul(anchor_emb, pos_emb.T)"
   ]
  },
  {
   "cell_type": "code",
   "execution_count": 5,
   "metadata": {},
   "outputs": [
    {
     "name": "stdout",
     "output_type": "stream",
     "text": [
      "[ 1 -1  1 -1  1  0]\n"
     ]
    }
   ],
   "source": [
    "import numpy as np\n",
    "\n",
    "# 示例数据\n",
    "trainItem = np.array([1, 2, 3, 4, 5,6])\n",
    "posItem = [1, 3, 5]\n",
    "negItem = [2, 4]\n",
    "\n",
    "# 生成标签数组\n",
    "labels = np.where(np.isin(trainItem, posItem), 1, np.where(np.isin(trainItem, negItem), -1, 0))\n",
    "\n",
    "print(labels)\n"
   ]
  },
  {
   "cell_type": "code",
   "execution_count": 8,
   "metadata": {},
   "outputs": [],
   "source": [
    "item_popularity_labels = np.array([1,-1,1,1,-1,0])\n",
    "batch_pos = np.array([0,1,2,3,4,5])\n",
    "\n",
    "\n"
   ]
  },
  {
   "cell_type": "code",
   "execution_count": 10,
   "metadata": {},
   "outputs": [
    {
     "data": {
      "text/plain": [
       "tensor([[ 1.],\n",
       "        [-1.],\n",
       "        [ 1.],\n",
       "        [ 1.],\n",
       "        [-1.],\n",
       "        [ 0.]])"
      ]
     },
     "execution_count": 10,
     "metadata": {},
     "output_type": "execute_result"
    }
   ],
   "source": [
    "import torch\n",
    "batch_pos_stance = torch.Tensor(item_popularity_labels[batch_pos])[:,None]\n",
    "batch_pos_stance\n"
   ]
  },
  {
   "cell_type": "code",
   "execution_count": 12,
   "metadata": {},
   "outputs": [],
   "source": [
    "batch_pos_stance = torch.cat([batch_pos_stance, torch.ones_like(batch_pos_stance[:,0])[:,None]],1)"
   ]
  },
  {
   "cell_type": "code",
   "execution_count": 13,
   "metadata": {},
   "outputs": [
    {
     "data": {
      "text/plain": [
       "tensor([[ 1.,  1.],\n",
       "        [-1.,  1.],\n",
       "        [ 1.,  1.],\n",
       "        [ 1.,  1.],\n",
       "        [-1.,  1.],\n",
       "        [ 0.,  1.]])"
      ]
     },
     "execution_count": 13,
     "metadata": {},
     "output_type": "execute_result"
    }
   ],
   "source": [
    "batch_pos_stance"
   ]
  },
  {
   "cell_type": "code",
   "execution_count": 5,
   "metadata": {},
   "outputs": [],
   "source": [
    "import torch\n",
    "all_emb = torch.randn(3, 2)\n",
    "embs = [all_emb]\n",
    "for i in range(3):\n",
    "    embs.append(torch.randn(3, 2))"
   ]
  },
  {
   "cell_type": "code",
   "execution_count": 6,
   "metadata": {},
   "outputs": [
    {
     "data": {
      "text/plain": [
       "tensor([[ 0.8539, -0.3498],\n",
       "        [-0.5302,  0.9893],\n",
       "        [ 1.4461, -2.2588]])"
      ]
     },
     "execution_count": 6,
     "metadata": {},
     "output_type": "execute_result"
    }
   ],
   "source": [
    "embs[1]"
   ]
  },
  {
   "cell_type": "code",
   "execution_count": 3,
   "metadata": {},
   "outputs": [
    {
     "data": {
      "text/plain": [
       "tensor([[[ 1.4246, -1.9283],\n",
       "         [-1.3240,  0.9631],\n",
       "         [ 1.4798, -0.0739],\n",
       "         [ 0.0601, -0.7485]],\n",
       "\n",
       "        [[-0.0639, -0.6365],\n",
       "         [-2.1322,  0.5168],\n",
       "         [ 0.0810, -0.1695],\n",
       "         [-0.6680,  0.6472]],\n",
       "\n",
       "        [[-0.8898,  0.8885],\n",
       "         [-0.0159,  0.5228],\n",
       "         [-0.3950,  1.0713],\n",
       "         [-2.4676,  0.3383]]])"
      ]
     },
     "execution_count": 3,
     "metadata": {},
     "output_type": "execute_result"
    }
   ],
   "source": [
    "embs = torch.stack(embs, dim=1)\n",
    "embs"
   ]
  },
  {
   "cell_type": "code",
   "execution_count": 4,
   "metadata": {},
   "outputs": [
    {
     "data": {
      "text/plain": [
       "tensor([[ 0.4101, -0.4469],\n",
       "        [-0.6958,  0.0895],\n",
       "        [-0.9421,  0.7052]])"
      ]
     },
     "execution_count": 4,
     "metadata": {},
     "output_type": "execute_result"
    }
   ],
   "source": [
    "light_out = torch.mean(embs, dim=1)\n",
    "light_out"
   ]
  },
  {
   "cell_type": "code",
   "execution_count": 1,
   "metadata": {
    "tags": []
   },
   "outputs": [],
   "source": [
    "import numpy as np\n",
    "from scipy.sparse import block_diag, csr_matrix\n",
    "\n",
    "# Function to create a random dense block\n",
    "def create_dense_block(size):\n",
    "    return np.random.randn(size, size)\n",
    "\n",
    "# Define the sizes of the diagonal blocks\n",
    "block_sizes = [4, 5, 3]  # Three blocks of size 4x4, 5x5, and 3x3\n",
    "\n",
    "# Create random dense blocks for the diagonal\n",
    "blocks = [create_dense_block(size) for size in block_sizes]\n",
    "\n",
    "# Construct a sparse block diagonal matrix using the created blocks\n",
    "sparse_block_diag_matrix = block_diag(blocks, format='csr') "
   ]
  },
  {
   "cell_type": "code",
   "execution_count": 2,
   "metadata": {
    "tags": []
   },
   "outputs": [
    {
     "data": {
      "text/plain": [
       "[array([[-1.62413986, -0.89590578, -0.88175956, -1.82740039],\n",
       "        [-0.91618637,  0.35564996,  0.20236409,  1.05246697],\n",
       "        [ 0.49474674,  0.46514747, -0.33187069,  1.00898842],\n",
       "        [-0.47808916,  1.52689969, -0.33391415,  1.10436904]]),\n",
       " array([[ 1.95589045,  0.92095285, -0.22682297,  0.64158078, -0.18790895],\n",
       "        [-1.28466465, -0.35275894, -0.40412328,  1.99342409, -0.83431524],\n",
       "        [-0.77282828,  0.07629163, -0.74264953, -0.41236759, -0.19701942],\n",
       "        [-0.01277139, -1.22261875, -1.86451777, -1.13569071, -0.57926277],\n",
       "        [ 0.88727391, -0.23101998, -0.83956408,  0.11307172,  0.52991157]]),\n",
       " array([[ 0.59488904,  0.04878309, -0.16089648],\n",
       "        [ 1.8196466 , -0.44909831, -0.54323203],\n",
       "        [ 0.05879724,  1.13918196, -0.477156  ]])]"
      ]
     },
     "execution_count": 2,
     "metadata": {},
     "output_type": "execute_result"
    }
   ],
   "source": [
    "blocks"
   ]
  },
  {
   "cell_type": "code",
   "execution_count": 3,
   "metadata": {
    "tags": []
   },
   "outputs": [
    {
     "data": {
      "text/plain": [
       "<12x12 sparse matrix of type '<class 'numpy.float64'>'\n",
       "\twith 50 stored elements in Compressed Sparse Row format>"
      ]
     },
     "execution_count": 3,
     "metadata": {},
     "output_type": "execute_result"
    }
   ],
   "source": [
    "sparse_block_diag_matrix"
   ]
  },
  {
   "cell_type": "code",
   "execution_count": 4,
   "metadata": {
    "tags": []
   },
   "outputs": [
    {
     "name": "stdout",
     "output_type": "stream",
     "text": [
      "  (0, 0)\t-1.6241398567614558\n",
      "  (0, 1)\t-0.8959057768624341\n",
      "  (0, 2)\t-0.881759562811058\n",
      "  (0, 3)\t-1.8274003870243016\n",
      "  (1, 0)\t-0.9161863700825905\n",
      "  (1, 1)\t0.3556499631313622\n",
      "  (1, 2)\t0.20236409268560726\n",
      "  (1, 3)\t1.0524669694672648\n",
      "  (2, 0)\t0.49474673919773127\n",
      "  (2, 1)\t0.46514747191123307\n",
      "  (2, 2)\t-0.3318706939812199\n",
      "  (2, 3)\t1.0089884222633472\n",
      "  (3, 0)\t-0.47808915538094665\n",
      "  (3, 1)\t1.5268996868120794\n",
      "  (3, 2)\t-0.3339141481178797\n",
      "  (3, 3)\t1.1043690387483687\n",
      "  (4, 4)\t1.9558904519236093\n",
      "  (4, 5)\t0.9209528510601486\n",
      "  (4, 6)\t-0.22682296612057865\n",
      "  (4, 7)\t0.6415807759011747\n",
      "  (4, 8)\t-0.18790895383121048\n",
      "  (5, 4)\t-1.28466464652621\n",
      "  (5, 5)\t-0.35275894184849715\n",
      "  (5, 6)\t-0.4041232844026405\n",
      "  (5, 7)\t1.9934240920382829\n",
      "  (5, 8)\t-0.8343152400270181\n",
      "  (6, 4)\t-0.7728282784238543\n",
      "  (6, 5)\t0.07629163100616973\n",
      "  (6, 6)\t-0.7426495325487102\n",
      "  (6, 7)\t-0.4123675906715114\n",
      "  (6, 8)\t-0.19701941999604977\n",
      "  (7, 4)\t-0.01277138619430275\n",
      "  (7, 5)\t-1.222618748440354\n",
      "  (7, 6)\t-1.864517765057539\n",
      "  (7, 7)\t-1.1356907134107932\n",
      "  (7, 8)\t-0.5792627683812986\n",
      "  (8, 4)\t0.8872739094146094\n",
      "  (8, 5)\t-0.2310199826213587\n",
      "  (8, 6)\t-0.8395640812624707\n",
      "  (8, 7)\t0.11307171845380204\n",
      "  (8, 8)\t0.5299115727940126\n",
      "  (9, 9)\t0.5948890363318536\n",
      "  (9, 10)\t0.04878308926718828\n",
      "  (9, 11)\t-0.1608964794250084\n",
      "  (10, 9)\t1.819646595327194\n",
      "  (10, 10)\t-0.44909831488924434\n",
      "  (10, 11)\t-0.5432320343377948\n",
      "  (11, 9)\t0.05879723636042608\n",
      "  (11, 10)\t1.1391819590729628\n",
      "  (11, 11)\t-0.4771559958494581\n"
     ]
    }
   ],
   "source": [
    "print(sparse_block_diag_matrix)"
   ]
  },
  {
   "cell_type": "code",
   "execution_count": 2,
   "metadata": {},
   "outputs": [],
   "source": [
    "import numpy as np\n",
    "rating_list = np.array([[3,4,6,2],[1,7,9,3]])\n",
    "rating_items = set([item for sublist1 in rating_list for item in sublist1])"
   ]
  },
  {
   "cell_type": "code",
   "execution_count": 3,
   "metadata": {},
   "outputs": [
    {
     "data": {
      "text/plain": [
       "{1, 2, 3, 4, 6, 7, 9}"
      ]
     },
     "execution_count": 3,
     "metadata": {},
     "output_type": "execute_result"
    }
   ],
   "source": [
    "rating_items"
   ]
  },
  {
   "cell_type": "code",
   "execution_count": 5,
   "metadata": {},
   "outputs": [],
   "source": [
    "from collections import Counter\n",
    "count = Counter(rating_items)"
   ]
  },
  {
   "cell_type": "code",
   "execution_count": 21,
   "metadata": {},
   "outputs": [
    {
     "name": "stdout",
     "output_type": "stream",
     "text": [
      "[[3, 4, 6, 2], [1, 7, 9, 3]]\n",
      "{1, 2, 3, 4, 6, 7, 9}\n",
      "Counter({3: 2, 4: 1, 6: 1, 2: 1, 1: 1, 7: 1, 9: 1})\n"
     ]
    }
   ],
   "source": [
    "import numpy as np\n",
    "from collections import Counter\n",
    "import torch\n",
    "rating_list = np.array([[3,4,6,2],[1,7,9,3]])\n",
    "rating_list = torch.tensor(rating_list).tolist()\n",
    "print(rating_list)\n",
    "rating_items_array = [item for sublist1 in rating_list for item in sublist1]\n",
    "rating_items_set = set(rating_items_array)\n",
    "count = Counter(rating_items_array)\n",
    "print(rating_items_set)\n",
    "print(count)"
   ]
  },
  {
   "cell_type": "code",
   "execution_count": null,
   "metadata": {},
   "outputs": [],
   "source": [
    "[tensor(1), tensor(3), tensor(4), tensor(1)]"
   ]
  },
  {
   "cell_type": "code",
   "execution_count": 19,
   "metadata": {},
   "outputs": [
    {
     "name": "stdout",
     "output_type": "stream",
     "text": [
      "[1, 2, 3, 4, 6, 7, 9]\n"
     ]
    }
   ],
   "source": [
    "rating_count = Counter(rating_items_array)\n",
    "\n",
    "# 将字典项转换为元组列表\n",
    "tuple_list = list(rating_count.items())\n",
    "\n",
    "# 根据键的索引排序\n",
    "sorted_tuple_list = sorted(tuple_list, key=lambda x: x[0])\n",
    "\n",
    "# 将排序后的元组列表转换回字典\n",
    "sorted_dict = dict(sorted_tuple_list)\n",
    "\n",
    "print(list(sorted_dict.keys()))\n"
   ]
  },
  {
   "cell_type": "code",
   "execution_count": 20,
   "metadata": {},
   "outputs": [
    {
     "name": "stdout",
     "output_type": "stream",
     "text": [
      "1\n",
      "2\n",
      "3\n",
      "4\n",
      "6\n",
      "7\n",
      "9\n"
     ]
    }
   ],
   "source": []
  },
  {
   "cell_type": "code",
   "execution_count": 3,
   "metadata": {},
   "outputs": [],
   "source": [
    "rating_items = rating_items_set\n",
    "rating_popularity = np.array([10,12,4,1,3,2,99])\n",
    "rating_count = sorted_dict.values()"
   ]
  },
  {
   "cell_type": "code",
   "execution_count": 5,
   "metadata": {},
   "outputs": [
    {
     "data": {
      "text/plain": [
       "array([10, 12,  4,  1,  3,  2, 99])"
      ]
     },
     "execution_count": 5,
     "metadata": {},
     "output_type": "execute_result"
    }
   ],
   "source": [
    "rating_popularity"
   ]
  },
  {
   "cell_type": "code",
   "execution_count": 7,
   "metadata": {},
   "outputs": [
    {
     "data": {
      "text/plain": [
       "dict_values([1, 1, 2, 1, 1, 1, 1])"
      ]
     },
     "execution_count": 7,
     "metadata": {},
     "output_type": "execute_result"
    }
   ],
   "source": [
    "rating_count"
   ]
  },
  {
   "cell_type": "code",
   "execution_count": 21,
   "metadata": {},
   "outputs": [
    {
     "data": {
      "image/png": "[encoded data removed]",
      "text/plain": [
       "<Figure size 1000x600 with 1 Axes>"
      ]
     },
     "metadata": {},
     "output_type": "display_data"
    }
   ],
   "source": [
    "import matplotlib.pyplot as plt\n",
    "assert len(rating_items) == len(rating_popularity) == len(rating_count), \"Lists must be of the same length.\"\n",
    "\n",
    "# 创建散点图\n",
    "plt.figure(figsize=(10, 6))  # 设置图形的大小\n",
    "plt.scatter(rating_count, rating_popularity, alpha=0.5)  \n",
    "plt.title('Item Popularity vs Recommendation Count')\n",
    "plt.ylabel('Popularity')\n",
    "plt.xlabel('Recommendation Count')\n",
    "\n",
    "# 显示图形\n",
    "plt.show()"
   ]
  }
 ],
 "metadata": {
  "kernelspec": {
   "display_name": "base",
   "language": "python",
   "name": "python3"
  },
  "language_info": {
   "codemirror_mode": {
    "name": "ipython",
    "version": 3
   },
   "file_extension": ".py",
   "mimetype": "text/x-python",
   "name": "python",
   "nbconvert_exporter": "python",
   "pygments_lexer": "ipython3",
   "version": "3.8.10"
  }
 },
 "nbformat": 4,
 "nbformat_minor": 4
}
