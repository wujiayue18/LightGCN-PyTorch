{
 "cells": [
  {
   "cell_type": "code",
   "execution_count": 3,
   "metadata": {},
   "outputs": [
    {
     "name": "stdout",
     "output_type": "stream",
     "text": [
      "\u001b[0;30;43mcuda\u001b[0m\n",
      "\u001b[0;30;43mloading [../data/gowalla]\u001b[0m\n",
      "810128 interactions for training\n",
      "217242 interactions for testing\n",
      "gowalla Sparsity : 0.0008396216228570436\n",
      "gowalla is ready to go\n",
      "Figure(640x480)\n"
     ]
    }
   ],
   "source": [
    "!python my_popularity.py \n",
    "\n",
    "\n"
   ]
  }
 ],
 "metadata": {
  "kernelspec": {
   "display_name": "base",
   "language": "python",
   "name": "python3"
  },
  "language_info": {
   "codemirror_mode": {
    "name": "ipython",
    "version": 3
   },
   "file_extension": ".py",
   "mimetype": "text/x-python",
   "name": "python",
   "nbconvert_exporter": "python",
   "pygments_lexer": "ipython3",
   "version": "3.8.10"
  }
 },
 "nbformat": 4,
 "nbformat_minor": 2
}
